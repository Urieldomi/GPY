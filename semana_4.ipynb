{
 "cells": [
  {
   "attachments": {},
   "cell_type": "markdown",
   "metadata": {},
   "source": [
    "# Basic Structures Introduction\n"
   ]
  },
  {
   "attachments": {},
   "cell_type": "markdown",
   "metadata": {},
   "source": [
    "# What is a string?\n",
    "\n",
    "A string is data type in python tht's used to represent a piece of text"
   ]
  },
  {
   "attachments": {},
   "cell_type": "markdown",
   "metadata": {},
   "source": [
    "# The parts of a string \n",
    "if we want to access just a specific character or characters\n",
    "\n",
    "This is called : String Indexing\n"
   ]
  },
  {
   "cell_type": "code",
   "execution_count": 4,
   "metadata": {},
   "outputs": [
    {
     "name": "stdout",
     "output_type": "stream",
     "text": [
      "J\n",
      "n\n",
      "s\n",
      "r\n"
     ]
    }
   ],
   "source": [
    "name =\"Jaylen\"\n",
    "print(name[0])\n",
    "print(name[5])\n",
    "\n",
    "#Negative indexes\n",
    "text =\"Random string with a lot of characters\"\n",
    "print(text[-1])\n",
    "#this permit access the positions in the string starting from the last\n",
    "print(text[-2])"
   ]
  },
  {
   "attachments": {},
   "cell_type": "markdown",
   "metadata": {},
   "source": [
    "On top of accessing individual characters, we can also access a slice of a string.\n",
    "\n",
    "# Slice \n",
    "The portion of a string that can contain more than one charcter;also sometimes called a substring\n"
   ]
  },
  {
   "cell_type": "code",
   "execution_count": 8,
   "metadata": {},
   "outputs": [
    {
     "name": "stdout",
     "output_type": "stream",
     "text": [
      "Pine\n",
      "apple\n"
     ]
    }
   ],
   "source": [
    "color = \"Orange\"\n",
    "color[1:4]\n",
    "\n",
    "#Other example\n",
    "fruit = \"Pineapple\"\n",
    "#This contain the character 0 to 3\n",
    "print(fruit[:4])\n",
    "#this contain the character 4 to 8 \n",
    "print(fruit[4:])\n"
   ]
  },
  {
   "attachments": {},
   "cell_type": "markdown",
   "metadata": {},
   "source": [
    "# Creating New Strings\n",
    "\n",
    "Strings in Python are immutable"
   ]
  },
  {
   "cell_type": "code",
   "execution_count": 10,
   "metadata": {},
   "outputs": [
    {
     "name": "stdout",
     "output_type": "stream",
     "text": [
      "A long string with a silly typo\n"
     ]
    }
   ],
   "source": [
    "message = \"A kong string with a silly typo\"\n",
    "\n",
    "new_message = message[0:2] + \"l\" + message[3:]\n",
    "print(new_message)"
   ]
  },
  {
   "cell_type": "code",
   "execution_count": 12,
   "metadata": {},
   "outputs": [
    {
     "name": "stdout",
     "output_type": "stream",
     "text": [
      "This is a new message\n",
      "And another one\n"
     ]
    }
   ],
   "source": [
    "message =\"This is a new message\"\n",
    "print(message)\n",
    "message =\"And another one\"\n",
    "print(message)"
   ]
  },
  {
   "attachments": {},
   "cell_type": "markdown",
   "metadata": {},
   "source": [
    "In the next case uses a method index\n",
    "\n",
    "A method : A function associated with a specific class"
   ]
  },
  {
   "cell_type": "code",
   "execution_count": 20,
   "metadata": {},
   "outputs": [
    {
     "data": {
      "text/plain": [
       "'jorge@ou.com'"
      ]
     },
     "execution_count": 20,
     "metadata": {},
     "output_type": "execute_result"
    }
   ],
   "source": [
    "pets = \"Cats & Dogs\"\n",
    "pets.index(\"&\")\n",
    "pets.index(\"C\")\n",
    "\n",
    "# when we have a substring \n",
    "pets.index(\"Dog\")\n",
    "\n",
    "#when we have a 2 characters in string that are the same  \n",
    "pets.index(\"s\")\n",
    "\n",
    "\n",
    "#How to know if a substring is contained in a string \n",
    "\"Dragon\" in pets\n",
    "\n",
    "\"Cats\" in pets\n",
    "\n",
    "#Function to new domain\n",
    "\n",
    "def replace_domain(email, old_domain, new_domain):\n",
    "    if \"@\" +old_domain in email:\n",
    "        index =email.index(\"@\"+ old_domain)\n",
    "        new_email =email[:index]+\"@\"+new_domain\n",
    "        return new_email\n",
    "    return email\n",
    "\n",
    "replace_domain(\"jorge@gmail.com\",\"gmail.com\",\"ou.com\")\n"
   ]
  },
  {
   "attachments": {},
   "cell_type": "markdown",
   "metadata": {},
   "source": [
    "# More String Methods\n",
    "\n"
   ]
  },
  {
   "cell_type": "code",
   "execution_count": 30,
   "metadata": {},
   "outputs": [
    {
     "name": "stdout",
     "output_type": "stream",
     "text": [
      "User said yes\n"
     ]
    },
    {
     "data": {
      "text/plain": [
       "' yes'"
      ]
     },
     "execution_count": 30,
     "metadata": {},
     "output_type": "execute_result"
    }
   ],
   "source": [
    "#upper(the characters converts in mayus)\n",
    "\"Montains\".upper()\n",
    "\n",
    "#lower(the characters converts in minus)\n",
    "\"Montains\".lower()\n",
    "\n",
    "answer =\"YES\"\n",
    "\n",
    "if answer.lower()==\"yes\":\n",
    "    print(\"User said yes\")\n",
    "\n",
    "#strip(eliminate the spaces,tabs in  string)\n",
    "\" yes \".strip()\n",
    "\n",
    "#lstrip(eliminate left spaces)\n",
    "\n",
    "\" yes \".lstrip()\n",
    "\n",
    "#rstrip(eliminate rigth spaces)\n",
    "\" yes \".rstrip()\n",
    "\n",
    "\n"
   ]
  },
  {
   "cell_type": "code",
   "execution_count": 53,
   "metadata": {},
   "outputs": [
    {
     "data": {
      "text/plain": [
       "['This', 'is', 'another', 'example']"
      ]
     },
     "execution_count": 53,
     "metadata": {},
     "output_type": "execute_result"
    }
   ],
   "source": [
    "#count(The number of times a character appears in the string.)\n",
    "\n",
    "\"The number of times e occurs in this string is 4\".count(\"times\")\n",
    "\n",
    "#endswith(returns whether the string ends with a certain substring)\n",
    "\"Forest\".endswith(\"rest\")\n",
    "\n",
    "#isnumeric()\n",
    "\n",
    "\"Forest\".isnumeric()\n",
    "\n",
    "\"12345\".isnumeric()\n",
    "\n",
    "#int function\n",
    "\n",
    "int(\"12333\") + int(\"223\")\n",
    "\n",
    "#join(concatenating)\n",
    "\" \".join([\"This\", \"is\" ,\"a\", \"phrase\", \"joined\",\"by\", \"spaces\"])\n",
    "\n",
    "\"...\".join([\"This\", \"is\", \"a\", \"phrase\", \"joined\",\"by\", \"triple\",\"dots\"])\n",
    "\n",
    "#Split(returns a list of all the words in the initial string and it automatically splits by any whitespace)\n",
    "\"This is another example\".split()\n",
    "\n",
    "\n"
   ]
  },
  {
   "attachments": {},
   "cell_type": "markdown",
   "metadata": {},
   "source": [
    "# Formatting Strings\n"
   ]
  },
  {
   "cell_type": "code",
   "execution_count": 55,
   "metadata": {},
   "outputs": [
    {
     "name": "stdout",
     "output_type": "stream",
     "text": [
      "Hello Many,your lucky number is 12\n",
      "your lucky number is 12, Many.\n"
     ]
    }
   ],
   "source": [
    "#format method\n",
    "\n",
    "name = \"Many\"\n",
    "\n",
    "number = len(name)*3\n",
    "\n",
    "print(\"Hello {},your lucky number is {}\".format(name,number))\n",
    "\n",
    "print(\"your lucky number is {number}, {name}.\".format(name=name,number= number))"
   ]
  },
  {
   "cell_type": "code",
   "execution_count": 59,
   "metadata": {},
   "outputs": [
    {
     "name": "stdout",
     "output_type": "stream",
     "text": [
      "Reed received 80 % on the exam\n",
      "Paige received 92 % on the exam\n",
      "Jesse received 85 % on the exam\n"
     ]
    }
   ],
   "source": [
    "def student_grade(name, grade):\n",
    "\treturn \"{} received {} % on the exam\".format(name,grade)\n",
    "\n",
    "print(student_grade(\"Reed\", 80))\n",
    "print(student_grade(\"Paige\", 92))\n",
    "print(student_grade(\"Jesse\", 85))"
   ]
  },
  {
   "cell_type": "code",
   "execution_count": 62,
   "metadata": {},
   "outputs": [
    {
     "name": "stdout",
     "output_type": "stream",
     "text": [
      "7.5 8.175\n",
      "Base price: $7.50. With Tax: $8.18\n"
     ]
    }
   ],
   "source": [
    "price = 7.5 \n",
    "with_tax = price *1.09\n",
    "\n",
    "print(price,with_tax)\n",
    "\n",
    "print(\"Base price: ${:.2f}. With Tax: ${:.2f}\".format(price, with_tax))"
   ]
  },
  {
   "cell_type": "code",
   "execution_count": 63,
   "metadata": {},
   "outputs": [
    {
     "name": "stdout",
     "output_type": "stream",
     "text": [
      "  0 F | -17.78 C \n",
      " 10 F | -12.22 C \n",
      " 20 F |  -6.67 C \n",
      " 30 F |  -1.11 C \n",
      " 40 F |   4.44 C \n",
      " 50 F |  10.00 C \n",
      " 60 F |  15.56 C \n",
      " 70 F |  21.11 C \n",
      " 80 F |  26.67 C \n",
      " 90 F |  32.22 C \n",
      "100 F |  37.78 C \n"
     ]
    }
   ],
   "source": [
    "def to_celsius(x):\n",
    "    return (x-32)*5/9\n",
    "\n",
    "for x in range(0,101,10):\n",
    "    print(\"{:>3} F | {:>6.2f} C \".format(x,to_celsius(x)))"
   ]
  },
  {
   "attachments": {},
   "cell_type": "markdown",
   "metadata": {},
   "source": [
    "# What is a List\n",
    " \n"
   ]
  },
  {
   "cell_type": "code",
   "execution_count": 85,
   "metadata": {},
   "outputs": [
    {
     "name": "stdout",
     "output_type": "stream",
     "text": [
      "['Now', 'we', ' are', 'cooking']\n",
      "Now\n"
     ]
    },
    {
     "data": {
      "text/plain": [
       "'Now'"
      ]
     },
     "execution_count": 85,
     "metadata": {},
     "output_type": "execute_result"
    }
   ],
   "source": [
    "x =[\"Now\",\"we\",\" are\", \"cooking\"]\n",
    "type(x)\n",
    "#print\n",
    "print(x)\n",
    "#len\n",
    "len(x)\n",
    "\n",
    "#in for knows if contain any word(the result is a boolean)\n",
    "\" are\" in x\n",
    "\n",
    "#indexing\n",
    "\n",
    "print(x[0])\n",
    "\n",
    "#a range of a list\n",
    "\n",
    "x[1:3]\n",
    "x[:2]\n",
    "x[2:]\n",
    "\n",
    "x[-4]"
   ]
  },
  {
   "cell_type": "code",
   "execution_count": 84,
   "metadata": {},
   "outputs": [
    {
     "name": "stdout",
     "output_type": "stream",
     "text": [
      "about\n",
      "Nothing\n",
      "we\n",
      "Nothing\n"
     ]
    }
   ],
   "source": [
    "def get_word(sentence, n):\n",
    "\t# Only proceed if n is positive \n",
    "\tif n > 0:\n",
    "\t\twords = sentence.split()\n",
    "\t\t# Only proceed if n is not more than the number of words \n",
    "\t\tif abs(n) <= len(words):\n",
    "\t\t\treturn words[n]\n",
    "\treturn \"Nothing\"\n",
    "\n",
    "print(get_word(\"This is a lesson about lists\", 4)) # Should print: lesson\n",
    "print(get_word(\"This is a lesson about lists\", -4)) # Nothing\n",
    "print(get_word(\"Now we are cooking!\", 1)) # Should print: Now\n",
    "print(get_word(\"Now we are cooking!\", 5)) # Nothing\n"
   ]
  },
  {
   "attachments": {},
   "cell_type": "markdown",
   "metadata": {},
   "source": [
    "# Modifyin the Contents of a list\n"
   ]
  },
  {
   "cell_type": "code",
   "execution_count": 8,
   "metadata": {},
   "outputs": [
    {
     "name": "stdout",
     "output_type": "stream",
     "text": [
      "['Pineapple', 'Banana', 'Apple', 'Melon', 'Kiwi']\n",
      "['Orange', 'Pineapple', 'Banana', 'Apple', 'Melon', 'Kiwi']\n",
      "['Orange', 'Pineapple', 'Banana', 'Apple', 'Melon', 'Kiwi', 'Peach']\n",
      "['Orange', 'Pineapple', 'Banana', 'Apple', 'Kiwi', 'Peach']\n",
      "['Orange', 'Pineapple', 'Banana', 'Kiwi', 'Peach']\n",
      "['Orange', 'Pineapple', 'Straberry', 'Kiwi', 'Peach']\n"
     ]
    }
   ],
   "source": [
    "#adding element a list using (append)\n",
    "fruits = [\"Pineapple\", \"Banana\", \"Apple\",\"Melon\"]\n",
    "\n",
    "fruits.append(\"Kiwi\")\n",
    "\n",
    "print(fruits)\n",
    "\n",
    "#append only adding element at final of the list\n",
    "\n",
    "#If you are adding an  element in a specific position of the list, use (insert)method\n",
    "\n",
    "fruits.insert(0,\"Orange\")\n",
    "\n",
    "print(fruits)\n",
    "\n",
    "#If we use a number larger than the length od the list \n",
    "\n",
    "fruits.insert(25,\"Peach\")\n",
    "\n",
    "print(fruits)\n",
    "#remove elements of the list (remove)\n",
    "\n",
    "fruits.remove(\"Melon\")\n",
    "\n",
    "print(fruits)\n",
    "\n",
    "#remove using (pop) method return the element that remove \n",
    "fruits.pop(3)\n",
    "\n",
    "print(fruits)\n",
    "\n",
    "#To change an item by assifning somethins else to that position \n",
    "\n",
    "fruits[2] =\"Straberry\"\n",
    "\n",
    "print(fruits)\n"
   ]
  },
  {
   "attachments": {},
   "cell_type": "markdown",
   "metadata": {},
   "source": [
    "# List and Tuples\n",
    "\n",
    "Tuples are Sequences of elements of any type, that are immutable\n",
    "\n",
    "When uses tuples the position of the eleements inside the tuple have meaning\n",
    "\n",
    "the tuples are unpacked , this meaning if we have a tuple of three elements in three separate variables"
   ]
  },
  {
   "cell_type": "code",
   "execution_count": 11,
   "metadata": {},
   "outputs": [
    {
     "name": "stdout",
     "output_type": "stream",
     "text": [
      "Grace\n",
      "Grace M Hopper\n"
     ]
    }
   ],
   "source": [
    "fullname =(\"Grace\",\"M\",\"Hopper\")\n",
    "\n",
    "firstname,middlename,lastname = fullname\n",
    "\n",
    "print(firstname,middlename,lastname)\n",
    "\n",
    "#Also if we have a function, we can directly separate when call the function\n",
    "\n"
   ]
  },
  {
   "attachments": {},
   "cell_type": "markdown",
   "metadata": {},
   "source": [
    "# Iterating over List and Tuples\n"
   ]
  },
  {
   "cell_type": "code",
   "execution_count": 12,
   "metadata": {},
   "outputs": [
    {
     "name": "stdout",
     "output_type": "stream",
     "text": [
      "Total characters : 22, Average length: 5.5\n"
     ]
    }
   ],
   "source": [
    "animals =[\"lion\", \"zebra\",\"dolphin\",\"Monkey\"]\n",
    "\n",
    "chars=0\n",
    "for animal in animals:\n",
    "    chars += len(animal)\n",
    "\n",
    "print(\"Total characters : {}, Average length: {}\".format(chars, chars/len(animals)))"
   ]
  },
  {
   "cell_type": "code",
   "execution_count": 15,
   "metadata": {},
   "outputs": [
    {
     "name": "stdout",
     "output_type": "stream",
     "text": [
      "1 - Ashley\n",
      "2 - Dylan\n",
      "3 - Reese\n"
     ]
    }
   ],
   "source": [
    "#enumerate function \n",
    "\n",
    "winners =[\"Ashley\",\"Dylan\",\"Reese\"]\n",
    "for index,person in enumerate(winners):\n",
    "    print(\"{} - {}\".format(index+1,person))"
   ]
  },
  {
   "cell_type": "code",
   "execution_count": 19,
   "metadata": {},
   "outputs": [
    {
     "name": "stdout",
     "output_type": "stream",
     "text": [
      "['Alex Diego <alez@example.com>', 'Shay Brandt <shay@example.com>']\n"
     ]
    }
   ],
   "source": [
    "def full_emails(people):\n",
    "    result =[]\n",
    "    for email, name in people:\n",
    "        result.append(\"{} <{}>\".format(name,email))\n",
    "    return result\n",
    "\n",
    "\n",
    "print(full_emails([(\"alez@example.com\",\"Alex Diego\"),(\"shay@example.com\",\"Shay Brandt\")]))\n"
   ]
  },
  {
   "attachments": {},
   "cell_type": "markdown",
   "metadata": {},
   "source": [
    "# List Comprehensions\n",
    "\n",
    "Let us create new lists based on sequences or ranges\n"
   ]
  },
  {
   "cell_type": "code",
   "execution_count": 21,
   "metadata": {},
   "outputs": [
    {
     "name": "stdout",
     "output_type": "stream",
     "text": [
      "[7, 14, 21, 28, 35, 42, 49, 56, 63, 70]\n",
      "[7, 14, 21, 28, 35, 42, 49, 56, 63, 70]\n"
     ]
    }
   ],
   "source": [
    "multiples =[]\n",
    "for x in range(1,11):\n",
    "    multiples.append(x*7)\n",
    "\n",
    "print(multiples)\n",
    "\n",
    "multiples =[ x*7 for x in range (1,11)]\n",
    "\n",
    "print(multiples)"
   ]
  },
  {
   "cell_type": "code",
   "execution_count": 24,
   "metadata": {},
   "outputs": [
    {
     "name": "stdout",
     "output_type": "stream",
     "text": [
      "[6, 4, 4, 2, 4, 1]\n",
      "[0, 3, 6, 9, 12, 15, 18, 21, 24, 27, 30, 33, 36, 39, 42, 45, 48, 51, 54, 57, 60, 63, 66, 69, 72, 75, 78, 81, 84, 87, 90, 93, 96, 99]\n"
     ]
    }
   ],
   "source": [
    "languages =[\"Python\", \"Perl\", \"Ruby\", \"Go\", \"Java\",\"C\"]\n",
    "\n",
    "lengths = [len(language) for language in languages]\n",
    "\n",
    "print(lengths)\n",
    "\n",
    "z = [x for x in range(0,101) if x % 3 == 0]\n",
    "print(z)"
   ]
  },
  {
   "attachments": {},
   "cell_type": "markdown",
   "metadata": {},
   "source": [
    "# What is a dictionary?\n",
    "\n",
    "The data inside dictionaries take the form of pairs of keys and values\n",
    "\n",
    "Dictionaries are mutable \n"
   ]
  },
  {
   "cell_type": "code",
   "execution_count": null,
   "metadata": {},
   "outputs": [
    {
     "data": {
      "text/plain": [
       "dict"
      ]
     },
     "execution_count": 25,
     "metadata": {},
     "output_type": "execute_result"
    }
   ],
   "source": [
    "x ={}\n",
    "type(x)\n"
   ]
  },
  {
   "cell_type": "code",
   "execution_count": 34,
   "metadata": {},
   "outputs": [
    {
     "name": "stdout",
     "output_type": "stream",
     "text": [
      "{'jpg': 10, 'txt': 14, 'csv': 2, 'py': 23}\n",
      "{'jpg': 10, 'txt': 14, 'csv': 2, 'py': 23, 'cfg': 8}\n",
      "{'jpg': 10, 'txt': 14, 'csv': 17, 'py': 23, 'cfg': 8}\n",
      "{'jpg': 10, 'txt': 14, 'csv': 17, 'py': 23}\n"
     ]
    }
   ],
   "source": [
    "file_counts ={\"jpg\":10,\"txt\":14,\"csv\":2,\"py\":23}\n",
    "\n",
    "print(file_counts)\n",
    "\n",
    "file_counts[\"txt\"]\n",
    "\n",
    "\"jpg\" in file_counts\n",
    "\"html\" in file_counts\n",
    "\n",
    "#adding a key with respective value\n",
    "file_counts[\"cfg\"] = 8\n",
    "print(file_counts)\n",
    "\n",
    "#Change the key exist and change your value \n",
    "file_counts[\"csv\"] = 17\n",
    "print(file_counts)\n",
    "\n",
    "#function del (remove key and value )\n",
    "\n",
    "del file_counts[\"cfg\"]\n",
    "print(file_counts)\n",
    "\n"
   ]
  }
 ],
 "metadata": {
  "kernelspec": {
   "display_name": "Python 3",
   "language": "python",
   "name": "python3"
  },
  "language_info": {
   "codemirror_mode": {
    "name": "ipython",
    "version": 3
   },
   "file_extension": ".py",
   "mimetype": "text/x-python",
   "name": "python",
   "nbconvert_exporter": "python",
   "pygments_lexer": "ipython3",
   "version": "3.10.5"
  },
  "orig_nbformat": 4
 },
 "nbformat": 4,
 "nbformat_minor": 2
}
