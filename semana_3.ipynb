{
 "cells": [
  {
   "attachments": {},
   "cell_type": "markdown",
   "metadata": {},
   "source": [
    "# Introduction to Loops\n",
    "\n"
   ]
  },
  {
   "attachments": {},
   "cell_type": "markdown",
   "metadata": {},
   "source": [
    "while loops\n",
    "\n",
    "Instruct your computer to continuosly execute your code based on the value of a condition\n",
    "\n",
    "Initializing \n",
    "\n",
    "To give an initial value to a variable\n"
   ]
  },
  {
   "cell_type": "code",
   "execution_count": 2,
   "metadata": {},
   "outputs": [
    {
     "name": "stdout",
     "output_type": "stream",
     "text": [
      "not there yet, x=0\n",
      "not there yet, x=1\n",
      "not there yet, x=2\n",
      "not there yet, x=3\n",
      "not there yet, x=4\n",
      "x=5\n",
      "Attempt1\n",
      "Attempt2\n",
      "Attempt3\n",
      "Attempt4\n",
      "Attempt5\n",
      "Done\n"
     ]
    }
   ],
   "source": [
    "#Example\n",
    "x=0\n",
    "while x < 5:\n",
    "    print(\"not there yet, x=\" + str(x))\n",
    "    x = x + 1\n",
    "\n",
    "print(\"x=\" + str(x))\n",
    "\n",
    "#More examples\n",
    "def attempts(n):\n",
    "    x=1\n",
    "    while x <= n:\n",
    "        print(\"Attempt \" + str(x))\n",
    "        x += 1 # the short version x=x+1\n",
    "    print(\"Done\")\n",
    "\n",
    "attempts(5)\n",
    "\n",
    "\n"
   ]
  },
  {
   "cell_type": "code",
   "execution_count": 3,
   "metadata": {},
   "outputs": [
    {
     "name": "stdout",
     "output_type": "stream",
     "text": [
      "Invalid username\n"
     ]
    }
   ],
   "source": [
    "def get_username():\n",
    "    x=input(\"Escribe tu username\")\n",
    "    return x\n",
    "\n",
    "def valid_username(username):\n",
    "    if len(username)<3:\n",
    "        x= False\n",
    "    else:\n",
    "        x=True \n",
    "    \n",
    "    return x\n",
    "\n",
    "username = get_username()        \n",
    "\n",
    "while not valid_username(username):\n",
    "    print(\"Invalid username\")\n",
    "    username =get_username()\n"
   ]
  }
 ],
 "metadata": {
  "kernelspec": {
   "display_name": "Python 3",
   "language": "python",
   "name": "python3"
  },
  "language_info": {
   "codemirror_mode": {
    "name": "ipython",
    "version": 3
   },
   "file_extension": ".py",
   "mimetype": "text/x-python",
   "name": "python",
   "nbconvert_exporter": "python",
   "pygments_lexer": "ipython3",
   "version": "3.10.5"
  },
  "orig_nbformat": 4
 },
 "nbformat": 4,
 "nbformat_minor": 2
}
