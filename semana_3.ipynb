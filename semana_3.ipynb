{
 "cells": [
  {
   "attachments": {},
   "cell_type": "markdown",
   "metadata": {},
   "source": [
    "# Introduction to Loops\n",
    "\n"
   ]
  },
  {
   "attachments": {},
   "cell_type": "markdown",
   "metadata": {},
   "source": [
    "while loops\n",
    "\n",
    "Instruct your computer to continuosly execute your code based on the value of a condition\n",
    "\n",
    "Initializing \n",
    "\n",
    "To give an initial value to a variable\n"
   ]
  },
  {
   "cell_type": "code",
   "execution_count": 2,
   "metadata": {},
   "outputs": [
    {
     "name": "stdout",
     "output_type": "stream",
     "text": [
      "not there yet, x=0\n",
      "not there yet, x=1\n",
      "not there yet, x=2\n",
      "not there yet, x=3\n",
      "not there yet, x=4\n",
      "x=5\n",
      "Attempt1\n",
      "Attempt2\n",
      "Attempt3\n",
      "Attempt4\n",
      "Attempt5\n",
      "Done\n"
     ]
    }
   ],
   "source": [
    "#Example\n",
    "x=0\n",
    "while x < 5:\n",
    "    print(\"not there yet, x=\" + str(x))\n",
    "    x = x + 1\n",
    "\n",
    "print(\"x=\" + str(x))\n",
    "\n",
    "#More examples\n",
    "def attempts(n):\n",
    "    x=1\n",
    "    while x <= n:\n",
    "        print(\"Attempt \" + str(x))\n",
    "        x += 1 # the short version x=x+1\n",
    "    print(\"Done\")\n",
    "\n",
    "attempts(5)\n",
    "\n",
    "\n"
   ]
  },
  {
   "cell_type": "code",
   "execution_count": 3,
   "metadata": {},
   "outputs": [
    {
     "name": "stdout",
     "output_type": "stream",
     "text": [
      "Invalid username\n"
     ]
    }
   ],
   "source": [
    "def get_username():\n",
    "    x=input(\"Escribe tu username\")\n",
    "    return x\n",
    "\n",
    "def valid_username(username):\n",
    "    if len(username)<3:\n",
    "        x= False\n",
    "    else:\n",
    "        x=True \n",
    "    \n",
    "    return x\n",
    "\n",
    "username = get_username()        \n",
    "\n",
    "while not valid_username(username):\n",
    "    print(\"Invalid username\")\n",
    "    username =get_username()\n"
   ]
  },
  {
   "attachments": {},
   "cell_type": "markdown",
   "metadata": {},
   "source": [
    "# Why initializing variables matters \n",
    "\n",
    "Whenever you're writing a loop, chech\n",
    "k that you're initializing all the variables you want to use before you use them."
   ]
  },
  {
   "cell_type": "code",
   "execution_count": 3,
   "metadata": {},
   "outputs": [
    {
     "name": "stdout",
     "output_type": "stream",
     "text": [
      "y1  2\n",
      "y3  3\n",
      "y6  4\n",
      "y10  5\n",
      "y15  6\n",
      "y21  7\n",
      "y28  8\n",
      "y36  9\n",
      "y45  10\n"
     ]
    }
   ],
   "source": [
    "x=1\n",
    "sum =0\n",
    "while x<10:\n",
    "    sum += x\n",
    "    x += 1\n",
    "    print(\"y\"+str(sum)+\"  \"+str(x))"
   ]
  },
  {
   "attachments": {},
   "cell_type": "markdown",
   "metadata": {},
   "source": [
    "# Infinite Loops and How to break them\n",
    "\n",
    "Infinite loop \n",
    "A loop that keeps executing and never stops\n"
   ]
  },
  {
   "cell_type": "code",
   "execution_count": 7,
   "metadata": {},
   "outputs": [
    {
     "ename": "KeyboardInterrupt",
     "evalue": "",
     "output_type": "error",
     "traceback": [
      "\u001b[1;31m---------------------------------------------------------------------------\u001b[0m",
      "\u001b[1;31mKeyboardInterrupt\u001b[0m                         Traceback (most recent call last)",
      "Cell \u001b[1;32mIn[7], line 5\u001b[0m\n\u001b[0;32m      1\u001b[0m \u001b[39m#example\u001b[39;00m\n\u001b[0;32m      2\u001b[0m \n\u001b[0;32m      3\u001b[0m \u001b[39m#este programa nunca parara.\u001b[39;00m\n\u001b[0;32m      4\u001b[0m x\u001b[39m=\u001b[39m\u001b[39m0\u001b[39m\n\u001b[1;32m----> 5\u001b[0m \u001b[39mwhile\u001b[39;00m x \u001b[39m%\u001b[39;49m \u001b[39m2\u001b[39;49m \u001b[39m==\u001b[39;49m \u001b[39m0\u001b[39;49m:\n\u001b[0;32m      6\u001b[0m     x \u001b[39m=\u001b[39m x\u001b[39m/\u001b[39m\u001b[39m2\u001b[39m\n\u001b[0;32m      8\u001b[0m \u001b[39m#otro ejemplo\u001b[39;00m\n",
      "\u001b[1;31mKeyboardInterrupt\u001b[0m: "
     ]
    }
   ],
   "source": [
    "#example\n",
    "\n",
    "#este programa nunca parara,si x=0\n",
    "while x % 2 == 0:\n",
    "    x = x/2\n",
    "\n",
    "#otro ejemplo para que no suceda lo de arriba\n",
    "if x != 0:\n",
    "    while x% 2==0:\n",
    "        x = x/2\n",
    "\n",
    "#podemos escribirlo de la siguiente manera tambien\n",
    "\n",
    "while x !=0 and x%2 ==0:\n",
    "    x = x/2\n",
    " \n",
    "# Break keyword\n",
    "while True:\n",
    "    do_something_cool()\n",
    "    if user_requested_to_stop():\n",
    "        break\n",
    "#The break  cute the code \n"
   ]
  },
  {
   "attachments": {},
   "cell_type": "markdown",
   "metadata": {},
   "source": [
    "# What is a for loop?\n",
    "\n",
    "a for loop Iterates over a sequence of values\n",
    "\n",
    "1. In Python, and a lot of other programming languages, a range of numbers will start with the value 0 by default\n",
    "\n",
    "2. The list of numbers generated will be one less than the given value.\n",
    "\n",
    "\n",
    "Use for loops when there's a sequence of elements that you want to iterate\n",
    "\n",
    "Use while loops when you want to repeat an action until a condition changes.\n"
   ]
  },
  {
   "cell_type": "code",
   "execution_count": 13,
   "metadata": {},
   "outputs": [
    {
     "name": "stdout",
     "output_type": "stream",
     "text": [
      "0\n",
      "1\n",
      "2\n",
      "3\n",
      "4\n",
      "Hi Taylor\n",
      "Hi Alex\n",
      "Hi Pat\n",
      "Hi Eli\n",
      "Total sum: 219 - Average: 43.8\n"
     ]
    }
   ],
   "source": [
    "#Simple example\n",
    "\n",
    "for x in range(5):\n",
    "    print(x)\n",
    "\n",
    "#the for loop iterate with list\n",
    "friends =['Taylor','Alex','Pat','Eli']\n",
    "for friend in friends:\n",
    "    print(\"Hi \" + friend)\n",
    "\n",
    "#the for loop sum and average\n",
    "\n",
    "values = [23, 52,59, 37, 48 ]\n",
    "sum = 0\n",
    "length = 0\n",
    "for value in values:\n",
    "    sum += value\n",
    "    length += 1\n",
    "\n",
    "\n",
    "print(\"Total sum: \" + str(sum) + \" - Average: \" + str(sum/length)) \n",
    "\n",
    "\n"
   ]
  },
  {
   "attachments": {},
   "cell_type": "markdown",
   "metadata": {},
   "source": [
    "# More for Loop Examples\n"
   ]
  },
  {
   "cell_type": "code",
   "execution_count": 36,
   "metadata": {},
   "outputs": [
    {
     "name": "stdout",
     "output_type": "stream",
     "text": [
      "362880\n",
      "0 -17.77777777777778\n",
      "50 10.0\n",
      "100 37.77777777777778\n",
      "150 65.55555555555556\n",
      "200 93.33333333333333\n",
      "250 121.11111111111111\n",
      "300 148.88888888888889\n",
      "350 176.66666666666666\n",
      "400 204.44444444444446\n",
      "450 232.22222222222223\n",
      "500 260.0\n",
      "550 287.77777777777777\n",
      "600 315.55555555555554\n",
      "650 343.3333333333333\n",
      "700 371.1111111111111\n",
      "750 398.8888888888889\n",
      "800 426.6666666666667\n",
      "850 454.44444444444446\n",
      "900 482.22222222222223\n",
      "950 510.0\n",
      "1000 537.7777777777778\n"
     ]
    }
   ],
   "source": [
    "product= 1\n",
    "for n in range(1,10):\n",
    "    product = product *n\n",
    "\n",
    "print(product)\n",
    "\n",
    "\n",
    "#other example\n",
    "\n",
    "def to_celsius(x):\n",
    "    return (x-32)*5/9\n",
    "\n",
    "for x in range(0,1001,50):\n",
    "    print(x,to_celsius(x))"
   ]
  },
  {
   "attachments": {},
   "cell_type": "markdown",
   "metadata": {},
   "source": [
    "# Nested for Loops\n"
   ]
  },
  {
   "cell_type": "code",
   "execution_count": 4,
   "metadata": {},
   "outputs": [
    {
     "name": "stdout",
     "output_type": "stream",
     "text": [
      "[0|0] [0|1] [0|2] [0|3] [0|4] [0|5] [0|6] \n",
      "[1|1] [1|2] [1|3] [1|4] [1|5] [1|6] \n",
      "[2|2] [2|3] [2|4] [2|5] [2|6] \n",
      "[3|3] [3|4] [3|5] [3|6] \n",
      "[4|4] [4|5] [4|6] \n",
      "[5|5] [5|6] \n",
      "[6|6] \n",
      "Dragons vs Wolves\n",
      "Dragons vs Pandas\n",
      "Dragons vs Unicorns\n",
      "Wolves vs Dragons\n",
      "Wolves vs Pandas\n",
      "Wolves vs Unicorns\n",
      "Pandas vs Dragons\n",
      "Pandas vs Wolves\n",
      "Pandas vs Unicorns\n",
      "Unicorns vs Dragons\n",
      "Unicorns vs Wolves\n",
      "Unicorns vs Pandas\n"
     ]
    }
   ],
   "source": [
    "for left in range(7):\n",
    "    for rigth in range(left, 7):\n",
    "        print(\"[\"+str(left)+\"|\"+ str(rigth)+\"]\", end =\" \")\n",
    "    print()    \n",
    "\n",
    "\n",
    "#para listas tambien\n",
    "teams = ['Dragons', 'Wolves', 'Pandas','Unicorns']\n",
    "for home_team in teams:\n",
    "    for away_team in teams:\n",
    "        if home_team !=away_team:\n",
    "            print(home_team+\" vs \"+ away_team)\n",
    "\n",
    "            \n"
   ]
  },
  {
   "attachments": {},
   "cell_type": "markdown",
   "metadata": {},
   "source": [
    "# Common Erros in for Loops\n",
    "\n",
    "\n"
   ]
  },
  {
   "cell_type": "code",
   "execution_count": 5,
   "metadata": {},
   "outputs": [
    {
     "ename": "TypeError",
     "evalue": "'int' object is not iterable",
     "output_type": "error",
     "traceback": [
      "\u001b[1;31m---------------------------------------------------------------------------\u001b[0m",
      "\u001b[1;31mTypeError\u001b[0m                                 Traceback (most recent call last)",
      "Cell \u001b[1;32mIn[5], line 3\u001b[0m\n\u001b[0;32m      1\u001b[0m \u001b[39m#dont iterate an single element\u001b[39;00m\n\u001b[1;32m----> 3\u001b[0m \u001b[39mfor\u001b[39;00m x \u001b[39min\u001b[39;00m \u001b[39m25\u001b[39m:\n\u001b[0;32m      4\u001b[0m     \u001b[39mprint\u001b[39m(x)\n",
      "\u001b[1;31mTypeError\u001b[0m: 'int' object is not iterable"
     ]
    }
   ],
   "source": [
    "#dont iterate an single element\n",
    "\n",
    "for x in 25:\n",
    "    print(x)\n"
   ]
  },
  {
   "cell_type": "code",
   "execution_count": 6,
   "metadata": {},
   "outputs": [
    {
     "name": "stdout",
     "output_type": "stream",
     "text": [
      "0\n",
      "1\n",
      "2\n",
      "3\n",
      "4\n",
      "5\n",
      "6\n",
      "7\n",
      "8\n",
      "9\n",
      "10\n",
      "11\n",
      "12\n",
      "13\n",
      "14\n",
      "15\n",
      "16\n",
      "17\n",
      "18\n",
      "19\n",
      "20\n",
      "21\n",
      "22\n",
      "23\n",
      "24\n"
     ]
    }
   ],
   "source": [
    "#Th correct form\n",
    "for x in range(25):\n",
    "    print(x)\n",
    "    "
   ]
  },
  {
   "cell_type": "code",
   "execution_count": 7,
   "metadata": {},
   "outputs": [
    {
     "name": "stdout",
     "output_type": "stream",
     "text": [
      "25\n"
     ]
    }
   ],
   "source": [
    "# If we want iterate in list with one element\n",
    "\n",
    "for x in [25]:\n",
    "    print(x)"
   ]
  },
  {
   "cell_type": "code",
   "execution_count": 2,
   "metadata": {},
   "outputs": [
    {
     "name": "stdout",
     "output_type": "stream",
     "text": [
      "Hi Taylor\n",
      "Hi Luisa\n",
      "Hi Jamaal\n",
      "Hi Eli\n",
      "Hi B\n",
      "Hi a\n",
      "Hi r\n",
      "Hi r\n",
      "Hi y\n"
     ]
    }
   ],
   "source": [
    "def greet_friends(friends):      \n",
    "    for friend in friends:\n",
    "        print(\"Hi \"+ friend)\n",
    "\n",
    "\n",
    "greet_friends(['Taylor','Luisa','Jamaal','Eli'])\n",
    "\n",
    "#the strings are iterable\n",
    "greet_friends(\"Barry\")\n",
    "\n"
   ]
  },
  {
   "attachments": {},
   "cell_type": "markdown",
   "metadata": {},
   "source": [
    "# What is recursion?(Optional)\n",
    "\n",
    "Recursion\n",
    "The repeated application of the same procedure to a smaller problem\n",
    "\n",
    "Recursion lets us tackle complex problems by reducing the problem to a simpler one\n",
    "\n",
    "In programming, recursion is a way of doing a repetitive task by having a function call itself\n",
    "\n"
   ]
  },
  {
   "cell_type": "code",
   "execution_count": 2,
   "metadata": {},
   "outputs": [
    {
     "name": "stdout",
     "output_type": "stream",
     "text": [
      "Returning 2 for factorial of 2\n",
      "Returning 6 for factorial of 3\n",
      "Returning 24 for factorial of 4\n",
      "Returning 120 for factorial of 5\n",
      "Returning 720 for factorial of 6\n",
      "Returning 5040 for factorial of 7\n",
      "Returning 40320 for factorial of 8\n"
     ]
    },
    {
     "data": {
      "text/plain": [
       "40320"
      ]
     },
     "execution_count": 2,
     "metadata": {},
     "output_type": "execute_result"
    }
   ],
   "source": [
    "#Example \n",
    "\n",
    "def factorial(n):\n",
    "    if n < 2:\n",
    "        return 1\n",
    "    result =  n*factorial(n-1)\n",
    "    print( \"Returning \" +str(result) + \" for factorial of \"+ str(n))\n",
    "    return result\n",
    "\n",
    "factorial(8)\n"
   ]
  },
  {
   "attachments": {},
   "cell_type": "markdown",
   "metadata": {},
   "source": [
    "# Recursion in Action in the IT Context\n"
   ]
  },
  {
   "attachments": {},
   "cell_type": "markdown",
   "metadata": {},
   "source": [
    "Recursion is a powerful technique used to solve problems by breaking them down into smaller cases and solving them in a similar manner. It is particularly useful in mathematical functions and recursive structures. Recursion allows for easier and more understandable solutions in certain cases, such as calculating factorials or summing previous numbers. However, it's important to be aware of the limitations on recursive calls imposed by programming languages. Despite its advantages, recursion should be used with caution and consideration of these limits."
   ]
  },
  {
   "attachments": {},
   "cell_type": "markdown",
   "metadata": {},
   "source": [
    "# Additional Recursion Sources\n",
    "A recursive function must include a recursive case and base case. The recursive case calls the function again, with a different value. The base case returns a value without calling the same function.\n",
    "\n",
    "A recursive function will usually have this structure:"
   ]
  },
  {
   "cell_type": "code",
   "execution_count": null,
   "metadata": {},
   "outputs": [],
   "source": [
    "def recursive_function(parameters):\n",
    "    if base_case_condition(parameters):\n",
    "        return base_case_value\n",
    "    recursive_function(modified_parameters)"
   ]
  },
  {
   "cell_type": "code",
   "execution_count": null,
   "metadata": {},
   "outputs": [],
   "source": []
  }
 ],
 "metadata": {
  "kernelspec": {
   "display_name": "Python 3",
   "language": "python",
   "name": "python3"
  },
  "language_info": {
   "codemirror_mode": {
    "name": "ipython",
    "version": 3
   },
   "file_extension": ".py",
   "mimetype": "text/x-python",
   "name": "python",
   "nbconvert_exporter": "python",
   "pygments_lexer": "ipython3",
   "version": "3.10.5"
  },
  "orig_nbformat": 4
 },
 "nbformat": 4,
 "nbformat_minor": 2
}
