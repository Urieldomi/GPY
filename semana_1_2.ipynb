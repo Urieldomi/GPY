{
 "cells": [
  {
   "attachments": {},
   "cell_type": "markdown",
   "metadata": {},
   "source": [
    "# PYTHON "
   ]
  },
  {
   "cell_type": "code",
   "execution_count": 2,
   "metadata": {},
   "outputs": [
    {
     "name": "stdout",
     "output_type": "stream",
     "text": [
      "Hello world \n",
      "Hello Brook\n",
      "hello  Alex\n"
     ]
    }
   ],
   "source": [
    "print(\"Hello world \")\n",
    "\n",
    "name = ' Brook'\n",
    "\n",
    "print(\"Hello\"+ name) #This is called concatenation\n",
    "\n",
    "name  =' Alex'\n",
    "print(\"hello \"+ name)\n"
   ]
  },
  {
   "attachments": {},
   "cell_type": "markdown",
   "metadata": {},
   "source": [
    "# Python is like a calculator\n"
   ]
  },
  {
   "cell_type": "code",
   "execution_count": 1,
   "metadata": {},
   "outputs": [
    {
     "name": "stdout",
     "output_type": "stream",
     "text": [
      "9\n",
      "63\n",
      "-0.25\n",
      "0.3333333333333333\n",
      "42.0\n",
      "1024\n"
     ]
    }
   ],
   "source": [
    "print(4+5)\n",
    "print(9*7)\n",
    "print(-1/4)\n",
    "print(1/3)\n",
    "print(((2050/5)-32)/9)\n",
    "print(2**10)\n"
   ]
  },
  {
   "attachments": {},
   "cell_type": "markdown",
   "metadata": {},
   "source": [
    "Data types\n"
   ]
  },
  {
   "cell_type": "code",
   "execution_count": 2,
   "metadata": {},
   "outputs": [
    {
     "name": "stdout",
     "output_type": "stream",
     "text": [
      "15\n",
      "helloworld\n"
     ]
    }
   ],
   "source": [
    "#sum of integers\n",
    "print(7+8)\n",
    "#sunm of strings\n",
    "print(\"hello\"+\"world\")\n",
    "\n"
   ]
  },
  {
   "attachments": {},
   "cell_type": "markdown",
   "metadata": {},
   "source": [
    "Function Type"
   ]
  },
  {
   "cell_type": "code",
   "execution_count": 3,
   "metadata": {},
   "outputs": [
    {
     "name": "stdout",
     "output_type": "stream",
     "text": [
      "<class 'str'>\n",
      "<class 'int'>\n",
      "<class 'float'>\n"
     ]
    }
   ],
   "source": [
    "print(type(\"a\"))\n",
    "\n",
    "print(type(2))\n",
    "\n",
    "print(type(2.5))\n"
   ]
  },
  {
   "attachments": {},
   "cell_type": "markdown",
   "metadata": {},
   "source": [
    "Variables "
   ]
  },
  {
   "cell_type": "code",
   "execution_count": 1,
   "metadata": {},
   "outputs": [
    {
     "name": "stdout",
     "output_type": "stream",
     "text": [
      "20\n"
     ]
    }
   ],
   "source": [
    "length = 10 \n",
    "width = 2\n",
    "area =length* width\n",
    "print(area)\n"
   ]
  },
  {
   "attachments": {},
   "cell_type": "markdown",
   "metadata": {},
   "source": [
    "Assignment: The process of stpring a value inside a variable \n",
    "\n",
    "Expression : A combination of numbers, symbols, or other variables that produce a result when evaluated"
   ]
  },
  {
   "attachments": {},
   "cell_type": "markdown",
   "metadata": {},
   "source": [
    "Variable Naming Restrictions \n",
    "\n",
    "-Don't use keywords or functions that Python reserves for its own\n",
    "\n",
    "-Don't use spaces\n",
    "\n",
    "-Must start with a letter or an underscore(_)\n",
    "\n",
    "-Must be made up of only letters, numbers, and underscores (_)\n"
   ]
  },
  {
   "attachments": {},
   "cell_type": "markdown",
   "metadata": {},
   "source": [
    "Implicit conversion : The interpreter automatically converts one data type into another\n"
   ]
  },
  {
   "cell_type": "code",
   "execution_count": 1,
   "metadata": {},
   "outputs": [
    {
     "name": "stdout",
     "output_type": "stream",
     "text": [
      "The area of the triangle is :9.0\n"
     ]
    }
   ],
   "source": [
    "base = 6\n",
    "height = 3\n",
    "area = (base*height)/2\n",
    "print(\"The area of the triangle is :\"+ str(area))\n",
    " "
   ]
  },
  {
   "attachments": {},
   "cell_type": "markdown",
   "metadata": {},
   "source": [
    "# Defining Functions\n",
    " "
   ]
  },
  {
   "cell_type": "code",
   "execution_count": 7,
   "metadata": {},
   "outputs": [
    {
     "name": "stdout",
     "output_type": "stream",
     "text": [
      "Welcome,rodrigo\n",
      "You are part of it support\n"
     ]
    }
   ],
   "source": [
    "def greeting (name,department):\n",
    "    print(\"Welcome,\"+ name)\n",
    "    print(\"You are part of \"+ department)\n",
    "\n",
    "greeting('rodrigo', 'it support')"
   ]
  },
  {
   "attachments": {},
   "cell_type": "markdown",
   "metadata": {},
   "source": [
    "Keyword : return"
   ]
  },
  {
   "cell_type": "code",
   "execution_count": 10,
   "metadata": {},
   "outputs": [
    {
     "name": "stdout",
     "output_type": "stream",
     "text": [
      "the sum of both areas is:20.5\n"
     ]
    }
   ],
   "source": [
    "def area_triangle(base, height):\n",
    "    return base*height/2\n",
    "\n",
    "area_triangle(3,5)\n",
    "\n",
    "#Can use makes your code more reusable\n",
    "area_a= area_triangle(5,4)\n",
    "area_b= area_triangle(7,3)\n",
    "sum =area_a +area_b\n",
    "\n",
    "print('the sum of both areas is:'+ str(sum))\n"
   ]
  },
  {
   "cell_type": "code",
   "execution_count": 16,
   "metadata": {},
   "outputs": [
    {
     "name": "stdout",
     "output_type": "stream",
     "text": [
      "1 23 20\n",
      "Welcome,uri\n",
      "None\n"
     ]
    }
   ],
   "source": [
    "def convert_seconds(seconds):\n",
    "    hours =seconds//3600\n",
    "    minutes=(seconds-hours *3600)//60 # The operatpr // is a floor division , takes the integer part of the result \n",
    "    remaining_seconds =seconds-hours*3600 -minutes*60\n",
    "    return hours,minutes, remaining_seconds\n",
    "\n",
    "\n",
    "hours, minutes, seconds = convert_seconds(5000)\n",
    "\n",
    "print(hours,minutes,seconds)\n",
    "\n",
    "#Is posssible return nothing for example\n",
    "\n",
    "def greeting(name):\n",
    "    print(\"Welcome,\"+ name)\n",
    "#If  I save an variable \n",
    "result =greeting('uri')\n",
    "print(result)\n",
    "\n"
   ]
  },
  {
   "attachments": {},
   "cell_type": "markdown",
   "metadata": {},
   "source": [
    "None : A special data type in python used to indicate that things are empty or that they returned nothing\n"
   ]
  },
  {
   "attachments": {},
   "cell_type": "markdown",
   "metadata": {},
   "source": [
    "Self - Documentign code\n",
    "\n",
    "Written in a way that's readable and doesn't conceal its intent\n"
   ]
  },
  {
   "attachments": {},
   "cell_type": "markdown",
   "metadata": {},
   "source": [
    "# Comparing Things\n",
    "Boolean : One of two possible states: either true or false\n"
   ]
  },
  {
   "cell_type": "code",
   "execution_count": 23,
   "metadata": {},
   "outputs": [
    {
     "name": "stdout",
     "output_type": "stream",
     "text": [
      "True\n",
      "False\n",
      "True\n",
      "False\n",
      "False\n"
     ]
    }
   ],
   "source": [
    "#The operators  greater\n",
    "print(10>1)\n",
    "\n",
    "#operator equality\n",
    "print('cat'=='dog')\n",
    "\n",
    "#operator not equals\n",
    "print(1!=2)\n",
    "\n",
    "#For the intepreter is normal this entity are complety different\n",
    "print(1=='1')\n",
    "\n",
    "\n"
   ]
  },
  {
   "attachments": {},
   "cell_type": "markdown",
   "metadata": {},
   "source": [
    "# Logical Operators\n",
    "\n",
    "To evalute as true, the **and** operator would need both expressions to be true at the same time\n",
    "\n",
    "If we use the **or** operator, instead, the expression will be true either of the expressions are true, and false only when both expressions are false\n",
    "\n",
    "The **not** operator inverts the value of the expression that's in front of it"
   ]
  },
  {
   "cell_type": "code",
   "execution_count": 26,
   "metadata": {},
   "outputs": [
    {
     "name": "stdout",
     "output_type": "stream",
     "text": [
      "False\n",
      "True\n",
      "True\n",
      "False\n"
     ]
    }
   ],
   "source": [
    "#AND\n",
    "print(\"Yellow\">\"Cyan\" and \"Brown\">\"Magenta\")\n",
    "\n",
    "#OR\n",
    "print(25>50 or 1 !=2)\n",
    "\n",
    "#NOT\n",
    "print(not 42 ==\"Answer\")\n"
   ]
  },
  {
   "attachments": {},
   "cell_type": "markdown",
   "metadata": {},
   "source": [
    "# Branching with if statements\n",
    "\n",
    "Branching : The ability of a program to alter its execution sequence\n",
    "\n",
    "The body of the  if block will only execute when the condition evaluates to true; otherwise it's skipped\n",
    "\n",
    "When a return statement is executed, the function exits, so that the code that follows doesn't get executed"
   ]
  },
  {
   "cell_type": "code",
   "execution_count": 34,
   "metadata": {},
   "outputs": [
    {
     "name": "stdout",
     "output_type": "stream",
     "text": [
      "Ypur user is valid\n"
     ]
    },
    {
     "data": {
      "text/plain": [
       "0"
      ]
     },
     "execution_count": 34,
     "metadata": {},
     "output_type": "execute_result"
    }
   ],
   "source": [
    "#Example users at company\n",
    "\n",
    "def hint_username(username):\n",
    "    if len(username)<3:\n",
    "        print (\"Invalid username. Must be at least 3 characters long\")\n",
    "    else:\n",
    "        print(\"Ypur user is valid\")    \n",
    "\n",
    "\n",
    "hint_username(\"ueer\")\n",
    "\n",
    "#Function for if a numer is even or odd\n",
    "def is_even(number):\n",
    "    if number % 2 == 0:\n",
    "        return True\n",
    "    return False\n",
    "\n",
    "is_even(3)\n",
    "\n",
    "12%2\n"
   ]
  },
  {
   "attachments": {},
   "cell_type": "markdown",
   "metadata": {},
   "source": [
    "# Elif statements\n"
   ]
  },
  {
   "cell_type": "code",
   "execution_count": 45,
   "metadata": {},
   "outputs": [
    {
     "name": "stdout",
     "output_type": "stream",
     "text": [
      "Invalid username. Muste be at most 15 characters long \n",
      "15\n"
     ]
    },
    {
     "data": {
      "text/plain": [
       "False"
      ]
     },
     "execution_count": 45,
     "metadata": {},
     "output_type": "execute_result"
    }
   ],
   "source": [
    "\n",
    "def hint_username(username):\n",
    "    if len(username)<3:\n",
    "        print (\"Invalid username. Must be at least 3 characters long\")\n",
    "    else:\n",
    "        if len(username)> 15:\n",
    "            print(\"Invalid username. Muste be at most 15 characters long \")\n",
    "        else:\n",
    "            print(\"Valid username\")\n",
    "\n",
    "\n",
    "hint_username(\"Uriel dominguez juarez\")\n",
    "\n",
    "test_num = 12\n",
    "if test_num > 15:\n",
    "    print(test_num / 4)\n",
    "else:\n",
    "    print(test_num + 3)\n",
    "\n",
    "((24 == 5*2) and (24 > 3*5) and (2*6 == 12))"
   ]
  },
  {
   "attachments": {},
   "cell_type": "markdown",
   "metadata": {},
   "source": []
  }
 ],
 "metadata": {
  "kernelspec": {
   "display_name": "Python 3",
   "language": "python",
   "name": "python3"
  },
  "language_info": {
   "codemirror_mode": {
    "name": "ipython",
    "version": 3
   },
   "file_extension": ".py",
   "mimetype": "text/x-python",
   "name": "python",
   "nbconvert_exporter": "python",
   "pygments_lexer": "ipython3",
   "version": "3.10.5"
  },
  "orig_nbformat": 4
 },
 "nbformat": 4,
 "nbformat_minor": 2
}
